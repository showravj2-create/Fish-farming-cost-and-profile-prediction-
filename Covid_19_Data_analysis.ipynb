{
  "nbformat": 4,
  "nbformat_minor": 0,
  "metadata": {
    "colab": {
      "provenance": [],
      "authorship_tag": "ABX9TyPsPq8ojTPHIdZ57pecJeHw",
      "include_colab_link": true
    },
    "kernelspec": {
      "name": "python3",
      "display_name": "Python 3"
    },
    "language_info": {
      "name": "python"
    }
  },
  "cells": [
    {
      "cell_type": "markdown",
      "metadata": {
        "id": "view-in-github",
        "colab_type": "text"
      },
      "source": [
        "<a href=\"https://colab.research.google.com/github/showravj2-create/Fish-farming-cost-and-profile-prediction-/blob/main/Covid_19_Data_analysis.ipynb\" target=\"_parent\"><img src=\"https://colab.research.google.com/assets/colab-badge.svg\" alt=\"Open In Colab\"/></a>"
      ]
    },
    {
      "cell_type": "code",
      "source": [
        "# 📌 Fish Farming Prediction System (Bangladesh Context)\n",
        "\n",
        "import pandas as pd\n",
        "import numpy as np\n",
        "import matplotlib.pyplot as plt\n",
        "import requests\n",
        "from PIL import Image\n",
        "from io import BytesIO\n",
        "\n",
        "fish_data = {\n",
        "    \"Fish\": [\"Rui\", \"Katla\", \"Tilapia\", \"Pangas\", \"Mrigal\"],\n",
        "    \"Cost_per_kg_Tk\": [180, 200, 150, 120, 170],\n",
        "    \"Feed_cost_Tk\": [50, 60, 40, 35, 55],\n",
        "    \"Growth_time_months\": [6, 7, 4, 5, 6],\n",
        "    \"Selling_price_Tk\": [300, 320, 250, 200, 280]\n",
        "}\n",
        "\n",
        "df = pd.DataFrame(fish_data)\n",
        "\n",
        "seasons = {\n",
        "    \"Summer\": {\"months\": [3,4], \"price_factor\": 1.1},\n",
        "    \"Rainy\": {\"months\": [5,6], \"price_factor\": 1.05},\n",
        "    \"Autumn\": {\"months\": [7,8], \"price_factor\": 1.0},\n",
        "    \"Late Autumn\": {\"months\": [9,10], \"price_factor\": 1.0},\n",
        "    \"Winter\": {\"months\": [11,12], \"price_factor\": 0.9},\n",
        "    \"Spring\": {\"months\": [1,2], \"price_factor\": 0.95}\n",
        "}\n",
        "\n",
        "def predict_profit(fish, season, weight_kg=100):\n",
        "    row = df[df[\"Fish\"] == fish].iloc[0]\n",
        "    base_cost = (row[\"Cost_per_kg_Tk\"] + row[\"Feed_cost_Tk\"]) * weight_kg\n",
        "    selling_price = row[\"Selling_price_Tk\"] * weight_kg\n",
        "    factor = seasons[season][\"price_factor\"]\n",
        "    adjusted_income = selling_price * factor\n",
        "    profit = adjusted_income - base_cost\n",
        "    return profit, adjusted_income, base_cost\n",
        "\n",
        "profit, income, cost = predict_profit(\"Rui\", \"Summer\", 100)\n",
        "print(f\"Rui in Summer → Income: {income} Tk, Cost: {cost} Tk, Profit: {profit} Tk\")\n",
        "\n",
        "fish_images = {\n",
        "    \"Rui\": \"https://www.fishexplorer.com/images/large/rohu.jpg\",\n",
        "    \"Katla\": \"https://www.fishexplorer.com/images/large/catla.jpg\",\n",
        "    \"Tilapia\": \"https://www.aquaculturealliance.org/wp-content/uploads/2021/03/Nile-tilapia-male-breeding-colors.jpg\",\n",
        "    \"Pangas\": \"https://www.fishexplorer.com/images/large/pangas.jpg\",\n",
        "    \"Mrigal\": \"https://www.fishexplorer.com/images/large/mrigal.jpg\"\n",
        "}\n",
        "\n",
        "def show_image_from_url(title, url):\n",
        "    try:\n",
        "        response = requests.get(url)\n",
        "        img = Image.open(BytesIO(response.content))\n",
        "        plt.imshow(img)\n",
        "        plt.axis(\"off\")\n",
        "        plt.title(title)\n",
        "        plt.show()\n",
        "    except Exception as e:\n",
        "        print(f\"⚠️ Could not load image for {title}: {e}\")\n",
        "\n",
        "for fish, url in fish_images.items():\n",
        "    show_image_from_url(fish, url)\n",
        "\n",
        "polyculture = {\n",
        "    \"Rui + Katla + Mrigal\": \"These are surface, column, and bottom feeders → use pond space efficiently.\",\n",
        "    \"Tilapia + Pangas\": \"Fast growers, profitable combo, but need good water quality.\",\n",
        "    \"Rui + Tilapia\": \"Balanced growth, less feed competition.\"\n",
        "}\n",
        "\n",
        "print(\"\\n💡 Profitable Fish Combinations:\")\n",
        "for combo, advice in polyculture.items():\n",
        "    print(f\"- {combo}: {advice}\")\n",
        "\n",
        "tips = [\n",
        "    \"✅ Keep pond water clean and oxygenated.\",\n",
        "    \"✅ Use floating and sinking feed for different fish types.\",\n",
        "    \"✅ Regularly check fish health to avoid diseases.\",\n",
        "    \"✅ Stock fingerlings of different species together for polyculture.\",\n",
        "    \"✅ Adjust feed and care depending on season.\"\n",
        "]\n",
        "\n",
        "print(\"\\n🌱 Healthy Fish Farming Tips:\")\n",
        "for tip in tips:\n",
        "    print(tip)"
      ],
      "metadata": {
        "colab": {
          "base_uri": "https://localhost:8080/"
        },
        "id": "6eS1E9-p0_MH",
        "outputId": "f82892fc-88d9-4bf3-d8c9-94046c0e6c46"
      },
      "execution_count": null,
      "outputs": [
        {
          "output_type": "stream",
          "name": "stdout",
          "text": [
            "Rui in Summer → Income: 33000.0 Tk, Cost: 23000 Tk, Profit: 10000.0 Tk\n",
            "⚠️ Could not load image for Rui: cannot identify image file <_io.BytesIO object at 0x7e3dc7d212b0>\n",
            "⚠️ Could not load image for Katla: cannot identify image file <_io.BytesIO object at 0x7e3dc7d22de0>\n",
            "⚠️ Could not load image for Tilapia: cannot identify image file <_io.BytesIO object at 0x7e3dc7d22c00>\n",
            "⚠️ Could not load image for Pangas: cannot identify image file <_io.BytesIO object at 0x7e3dc7d23470>\n",
            "⚠️ Could not load image for Mrigal: cannot identify image file <_io.BytesIO object at 0x7e3dc7d22980>\n",
            "\n",
            "💡 Profitable Fish Combinations:\n",
            "- Rui + Katla + Mrigal: These are surface, column, and bottom feeders → use pond space efficiently.\n",
            "- Tilapia + Pangas: Fast growers, profitable combo, but need good water quality.\n",
            "- Rui + Tilapia: Balanced growth, less feed competition.\n",
            "\n",
            "🌱 Healthy Fish Farming Tips:\n",
            "✅ Keep pond water clean and oxygenated.\n",
            "✅ Use floating and sinking feed for different fish types.\n",
            "✅ Regularly check fish health to avoid diseases.\n",
            "✅ Stock fingerlings of different species together for polyculture.\n",
            "✅ Adjust feed and care depending on season.\n"
          ]
        }
      ]
    }
  ]
}